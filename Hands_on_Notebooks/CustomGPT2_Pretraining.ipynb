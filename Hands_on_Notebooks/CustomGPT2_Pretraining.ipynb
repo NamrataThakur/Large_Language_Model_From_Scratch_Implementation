{
 "cells": [
  {
   "cell_type": "code",
   "execution_count": 2,
   "id": "f9426caf",
   "metadata": {},
   "outputs": [],
   "source": [
    "#!pip install datasets"
   ]
  },
  {
   "cell_type": "code",
   "execution_count": 1,
   "id": "d7912f08",
   "metadata": {},
   "outputs": [
    {
     "name": "stderr",
     "output_type": "stream",
     "text": [
      "c:\\Users\\Public\\anaconda3\\envs\\torch-gpu-cuda12.5\\Lib\\site-packages\\tqdm\\auto.py:21: TqdmWarning: IProgress not found. Please update jupyter and ipywidgets. See https://ipywidgets.readthedocs.io/en/stable/user_install.html\n",
      "  from .autonotebook import tqdm as notebook_tqdm\n"
     ]
    }
   ],
   "source": [
    "from datasets import load_dataset\n",
    "tinyStories_ds = load_dataset(\"roneneldan/TinyStories\")"
   ]
  },
  {
   "cell_type": "code",
   "execution_count": 2,
   "id": "e2db6433",
   "metadata": {},
   "outputs": [],
   "source": [
    "from functools import partial\n",
    "from torch.utils.data import DataLoader\n",
    "import torch\n",
    "import tiktoken\n",
    "import sys"
   ]
  },
  {
   "cell_type": "code",
   "execution_count": 3,
   "id": "fccf6231",
   "metadata": {},
   "outputs": [],
   "source": [
    "sys.path.insert(0, 'D:\\LLM_Deeplearning.ai\\SEBASTIAN_RASCHKA\\Large_Language_Model_From_Scratch_Implementation\\transformer_blocks')\n",
    "sys.path.insert(1, 'D:\\LLM_Deeplearning.ai\\SEBASTIAN_RASCHKA\\Large_Language_Model_From_Scratch_Implementation\\gpt_Pretraining')\n",
    "\n",
    "from text_generation import Text_Generation\n",
    "#from gpt2 import GPT2"
   ]
  },
  {
   "cell_type": "code",
   "execution_count": 4,
   "id": "56371b11",
   "metadata": {},
   "outputs": [
    {
     "name": "stdout",
     "output_type": "stream",
     "text": [
      "DatasetDict({\n",
      "    train: Dataset({\n",
      "        features: ['text'],\n",
      "        num_rows: 2119719\n",
      "    })\n",
      "    validation: Dataset({\n",
      "        features: ['text'],\n",
      "        num_rows: 21990\n",
      "    })\n",
      "})\n",
      "Printing 10 records from the Train set : \n",
      "{'text': 'One day, a little girl named Lily found a needle in her room. She knew it was difficult to play with it because it was sharp. Lily wanted to share the needle with her mom, so she could sew a button on her shirt.\\n\\nLily went to her mom and said, \"Mom, I found this needle. Can you share it with me and sew my shirt?\" Her mom smiled and said, \"Yes, Lily, we can share the needle and fix your shirt.\"\\n\\nTogether, they shared the needle and sewed the button on Lily\\'s shirt. It was not difficult for them because they were sharing and helping each other. After they finished, Lily thanked her mom for sharing the needle and fixing her shirt. They both felt happy because they had shared and worked together.'}\n",
      "{'text': 'Once upon a time, there was a little car named Beep. Beep loved to go fast and play in the sun. Beep was a healthy car because he always had good fuel. Good fuel made Beep happy and strong.\\n\\nOne day, Beep was driving in the park when he saw a big tree. The tree had many leaves that were falling. Beep liked how the leaves fall and wanted to play with them. Beep drove under the tree and watched the leaves fall on him. He laughed and beeped his horn.\\n\\nBeep played with the falling leaves all day. When it was time to go home, Beep knew he needed more fuel. He went to the fuel place and got more healthy fuel. Now, Beep was ready to go fast and play again the next day. And Beep lived happily ever after.'}\n",
      "{'text': 'One day, a little fish named Fin was swimming near the shore. He saw a big crab and wanted to be friends. \"Hi, I am Fin. Do you want to play?\" asked the little fish. The crab looked at Fin and said, \"No, I don\\'t want to play. I am cold and I don\\'t feel fine.\"\\n\\nFin felt sad but wanted to help the crab feel better. He swam away and thought of a plan. He remembered that the sun could make things warm. So, Fin swam to the top of the water and called to the sun, \"Please, sun, help my new friend feel fine and not freeze!\"\\n\\nThe sun heard Fin\\'s call and shone its warm light on the shore. The crab started to feel better and not so cold. He saw Fin and said, \"Thank you, little fish, for making me feel fine. I don\\'t feel like I will freeze now. Let\\'s play together!\" And so, Fin and the crab played and became good friends.'}\n",
      "{'text': 'Once upon a time, in a land full of trees, there was a little cherry tree. The cherry tree was very sad because it did not have any friends. All the other trees were big and strong, but the cherry tree was small and weak. The cherry tree was envious of the big trees.\\n\\nOne day, the cherry tree felt a tickle in its branches. It was a little spring wind. The wind told the cherry tree not to be sad. The wind said, \"You are special because you have sweet cherries that everyone loves.\" The cherry tree started to feel a little better.\\n\\nAs time went on, the cherry tree grew more and more cherries. All the animals in the land came to eat the cherries and play under the cherry tree. The cherry tree was happy because it had many friends now. The cherry tree learned that being different can be a good thing. And they all lived happily ever after.'}\n",
      "{'text': 'Once upon a time, there was a little girl named Lily. Lily liked to pretend she was a popular princess. She lived in a big castle with her best friends, a cat and a dog.\\n\\nOne day, while playing in the castle, Lily found a big cobweb. The cobweb was in the way of her fun game. She wanted to get rid of it, but she was scared of the spider that lived there.\\n\\nLily asked her friends, the cat and the dog, to help her. They all worked together to clean the cobweb. The spider was sad, but it found a new home outside. Lily, the cat, and the dog were happy they could play without the cobweb in the way. And they all lived happily ever after.'}\n",
      "{'text': 'Once upon a time, in a big lake, there was a brown kayak. The brown kayak liked to roll in the water all day long. It was very happy when it could roll and splash in the lake.\\n\\nOne day, a little boy named Tim came to play with the brown kayak. Tim and the brown kayak rolled in the water together. They laughed and had a lot of fun. The sun was shining, and the water was warm.\\n\\nAfter a while, it was time for Tim to go home. He said goodbye to the brown kayak and gave it a big hug. The brown kayak was sad to see Tim go, but it knew they would play together again soon. So, the brown kayak kept rolling in the water, waiting for the next fun day with Tim.'}\n",
      "{'text': 'Once upon a time, in a small town, there was a troubled little girl named Lily. She was always sad because she lost her favorite toy, a triangle. She looked everywhere in her house but could not find it.\\n\\nOne sunny day, Lily went to the park to play. She saw a big puddle of water and thought her triangle might be there. She put her hand in the water to soak it and looked for her toy. She felt something at the bottom of the puddle.\\n\\nLily pulled it out and saw that it was her triangle! She was so happy that she found it. From that day on, Lily was never troubled again. She played with her triangle every day and always kept it close to her. And when she saw puddles, she would smile and remember how she found her toy.'}\n",
      "{'text': 'Once upon a time, in a peaceful town, there lived a little boy named Tim. Tim loved to run and play outside. One day, Tim saw a race in the park. He was excited and wanted to join the race.\\n\\nTim went to his friend, Sarah, and said, \"Let\\'s start the race!\" Sarah smiled and said, \"Yes, let\\'s go!\" They lined up with the other kids and waited for the race to begin. When they heard the word \"Go!\", they started running as fast as they could.\\n\\nTim and Sarah ran with all their speed, laughing and having fun. They could feel the wind in their hair as they raced to the finish line. In the end, Tim won the race and Sarah came in second. They were both so happy and proud of themselves. They celebrated with their friends and had a great day at the park.'}\n",
      "{'text': 'Once upon a time, there was a clever little dog named Max. Max loved to run and play with his friends in the park. One day, Max was running very fast when he fell and hurt his knee.\\n\\nMax went to his friend, the wise old owl, and said, \"Owl, my knee hurts. What can I do?\" The owl thought for a moment and said, \"Max, you should test your knee. Try to walk slowly and see if it still hurts.\"\\n\\nSo Max tested his knee by walking slowly. At first, it hurt a little, but soon Max felt better. He said, \"Thank you, Owl, for your help. Now I can play with my friends again.\"\\n\\nMax was so happy that he could play with his friends without pain. He learned that sometimes, it was good to slow down and listen to his body. And Max and his friends played happily in the park ever after.'}\n",
      "{'text': 'One day, a fast driver named Tim went for a ride in his loud car. He loved to speed down the street and feel the wind in his hair. As he drove, he saw his friend, Sam, standing by the road.\\n\\n\"Hi, Sam!\" Tim called out. \"Do you want to go for a ride?\"\\n\\n\"Yes, please!\" Sam said, and he got in the car. They drove around the town, going fast and having fun. The car was very loud, and everyone could hear them coming.\\n\\nAt last, they stopped at the park to play. They ran and laughed until it was time to go home. Tim and Sam had a great day together, speeding in the loud car and playing in the park.'}\n",
      "{'text': 'Once upon a time, there was a big car named Dependable. He had a very important job. Dependable would take a family to the park every day. The family had a mom, dad, and a little girl named Lily. They all had a lot of love for each other.\\n\\nOne day, when they got to the park, they saw a big sign that said, \"Fun Race Today!\" The family was very excited. They knew that Dependable was very fast and could win the race. So, they decided to join the race.\\n\\nThe race started, and Dependable went very fast. The other cars tried to catch up, but Dependable was too quick. In the end, Dependable won the race! The family was so happy and proud of their car. They knew that their love for each other and their trust in Dependable made them win the race. And from that day on, they had even more fun at the park, knowing that they had the fastest and most dependable car around.'}\n",
      "{'text': 'Once upon a time, there was a boy named Tim. He liked to wear a big, dark hat. The hat was his favorite thing to wear. Tim wore the hat everywhere he went.\\n\\nOne day, Tim found a pencil on the ground. The pencil was small and yellow. Tim liked the pencil a lot. He put the pencil in his hat and took it with him.\\n\\nTim drew pictures with the pencil. He drew a sun, a tree, and a cat. Tim was very happy with his new pencil. He wore his dark hat and drew pictures every day.'}\n"
     ]
    }
   ],
   "source": [
    "#Printing to find out the structure of the huggingface dataset:\n",
    "print(tinyStories_ds)\n",
    "print('Printing 10 records from the Train set : ')\n",
    "\n",
    "i = 0\n",
    "for ts in tinyStories_ds['train']:\n",
    "    print(ts)\n",
    "    \n",
    "    if i > 10:\n",
    "        break\n",
    "    else:\n",
    "        i = i + 1\n",
    "        continue\n"
   ]
  },
  {
   "cell_type": "code",
   "execution_count": 14,
   "id": "86bfc20e",
   "metadata": {},
   "outputs": [],
   "source": [
    "class GPTCustomPretrainDataset:\n",
    "    def __init__(self, tokenizer, input_data):\n",
    "        self.data = input_data\n",
    "        self.encoded_data = []\n",
    "        self.total_tokens = 0\n",
    "\n",
    "        for row in input_data:\n",
    "            raw_text = row['text']\n",
    "            encoded_text = tokenizer.encode(raw_text, allowed_special={\"<|endoftext|>\"})\n",
    "            y = len(encoded_text)\n",
    "            self.total_tokens = self.total_tokens + y\n",
    "            self.encoded_data.append(encoded_text)\n",
    "\n",
    "    def __len__(self):\n",
    "        return len(self.encoded_data)\n",
    "    \n",
    "    def __getitem__(self, index):\n",
    "        return self.encoded_data[index]\n",
    "    \n",
    "    def get_total_tokens(self):\n",
    "        return self.total_tokens"
   ]
  },
  {
   "cell_type": "code",
   "execution_count": 15,
   "id": "f6d89af7",
   "metadata": {},
   "outputs": [],
   "source": [
    "def custom_collate_pretrain(batch, pad_token = 50256, device = 'cpu', max_seq_length = None):\n",
    "\n",
    "    input_list, target_list = [], []\n",
    "    batch_max_length = max([len(item)+1 for item in batch])\n",
    "\n",
    "    for row in batch:\n",
    "\n",
    "        tokens = row.copy()\n",
    "        tokens = tokens + [pad_token]\n",
    "\n",
    "        padded_tokens = tokens + [pad_token] * (batch_max_length - len(tokens))\n",
    "\n",
    "        inputs = torch.tensor(padded_tokens[:-1])\n",
    "        targets = torch.tensor(padded_tokens[1:])\n",
    "\n",
    "        if max_seq_length is not None:\n",
    "            inputs = inputs[:max_seq_length]\n",
    "            targets = targets[:max_seq_length]\n",
    "\n",
    "\n",
    "        input_list.append(inputs)\n",
    "        target_list.append(targets)\n",
    "\n",
    "    inputs_tensor = torch.stack(input_list).to(device)\n",
    "    targets_tensor = torch.stack(target_list).to(device)\n",
    "\n",
    "    return inputs_tensor, targets_tensor"
   ]
  },
  {
   "cell_type": "code",
   "execution_count": null,
   "metadata": {},
   "outputs": [],
   "source": [
    "def GPTCustomPretrainDataloader(data, tokenizer='tiktoken', pad_token=None, device = 'cpu', max_seq_length = None, batch_size=8,\n",
    "                                shuffle=True, drop_last=True,num_workers=0):\n",
    "\n",
    "    if tokenizer == 'tiktoken':\n",
    "        tokenizer = tiktoken.get_encoding('gpt2')\n",
    "\n",
    "    #Get the last token id of the tokenizer selected:\n",
    "    if pad_token is None:\n",
    "        pad_token = tokenizer.encode('<|endoftext|>', allowed_special='all')[0]\n",
    "\n",
    "    torch.manual_seed(123)\n",
    "\n",
    "    c_collate_pretrain = partial(custom_collate_pretrain, device=device, max_seq_length=max_seq_length , pad_token = pad_token)\n",
    "\n",
    "    dataset = GPTCustomPretrainDataset(tokenizer=tokenizer, input_data=data)\n",
    "    total_tokens = dataset.get_total_tokens()\n",
    "    print('Total Tokens : ', total_tokens)\n",
    "\n",
    "    #Create the dataloader with the dataset\n",
    "    custom_dataloader = DataLoader(dataset,batch_size=batch_size, collate_fn=c_collate_pretrain, \n",
    "                                   shuffle=shuffle, drop_last=drop_last, num_workers=num_workers)\n",
    "\n",
    "    return custom_dataloader, total_tokens"
   ]
  },
  {
   "cell_type": "code",
   "execution_count": 17,
   "id": "c453c89f",
   "metadata": {},
   "outputs": [
    {
     "name": "stdout",
     "output_type": "stream",
     "text": [
      "Total records in Train Data: 2119719 , Validation Data : 21990\n"
     ]
    }
   ],
   "source": [
    "train_df = tinyStories_ds['train']\n",
    "val_df = tinyStories_ds['validation']\n",
    "print(f'Total records in Train Data: {len(train_df)} , Validation Data : {len(val_df)}')"
   ]
  },
  {
   "cell_type": "code",
   "execution_count": 9,
   "id": "e4b9e1b5",
   "metadata": {},
   "outputs": [
    {
     "data": {
      "text/plain": [
       "{'text': 'Once upon a time, there was a little car named Beep. Beep loved to go fast and play in the sun. Beep was a healthy car because he always had good fuel. Good fuel made Beep happy and strong.\\n\\nOne day, Beep was driving in the park when he saw a big tree. The tree had many leaves that were falling. Beep liked how the leaves fall and wanted to play with them. Beep drove under the tree and watched the leaves fall on him. He laughed and beeped his horn.\\n\\nBeep played with the falling leaves all day. When it was time to go home, Beep knew he needed more fuel. He went to the fuel place and got more healthy fuel. Now, Beep was ready to go fast and play again the next day. And Beep lived happily ever after.'}"
      ]
     },
     "execution_count": 9,
     "metadata": {},
     "output_type": "execute_result"
    }
   ],
   "source": [
    "train_df[1]"
   ]
  },
  {
   "cell_type": "code",
   "execution_count": 37,
   "id": "7f0e7055",
   "metadata": {},
   "outputs": [
    {
     "name": "stdout",
     "output_type": "stream",
     "text": [
      "One day, a little girl named Lily found a needle in her room. She knew it was difficult to play with it because it was sharp. Lily wanted to share the needle with her mom, so she could sew a button on her shirt.\n",
      "\n",
      "Lily went to her mom and said, \"Mom, I found this needle. Can you share it with me and sew my shirt?\" Her mom smiled and said, \"Yes, Lily, we can share the needle and fix your shirt.\"\n",
      "\n",
      "Together, they shared the needle and sewed the button on Lily's shirt. It was not difficult for them because they were sharing and helping each other. After they finished, Lily thanked her mom for sharing the needle and fixing her shirt. They both felt happy because they had shared and worked together.\n",
      "dict_keys(['text'])\n",
      "---------\n",
      "Once upon a time, there was a little car named Beep. Beep loved to go fast and play in the sun. Beep was a healthy car because he always had good fuel. Good fuel made Beep happy and strong.\n",
      "\n",
      "One day, Beep was driving in the park when he saw a big tree. The tree had many leaves that were falling. Beep liked how the leaves fall and wanted to play with them. Beep drove under the tree and watched the leaves fall on him. He laughed and beeped his horn.\n",
      "\n",
      "Beep played with the falling leaves all day. When it was time to go home, Beep knew he needed more fuel. He went to the fuel place and got more healthy fuel. Now, Beep was ready to go fast and play again the next day. And Beep lived happily ever after.\n",
      "dict_keys(['text'])\n",
      "---------\n",
      "One day, a little fish named Fin was swimming near the shore. He saw a big crab and wanted to be friends. \"Hi, I am Fin. Do you want to play?\" asked the little fish. The crab looked at Fin and said, \"No, I don't want to play. I am cold and I don't feel fine.\"\n",
      "\n",
      "Fin felt sad but wanted to help the crab feel better. He swam away and thought of a plan. He remembered that the sun could make things warm. So, Fin swam to the top of the water and called to the sun, \"Please, sun, help my new friend feel fine and not freeze!\"\n",
      "\n",
      "The sun heard Fin's call and shone its warm light on the shore. The crab started to feel better and not so cold. He saw Fin and said, \"Thank you, little fish, for making me feel fine. I don't feel like I will freeze now. Let's play together!\" And so, Fin and the crab played and became good friends.\n",
      "dict_keys(['text'])\n",
      "---------\n",
      "Once upon a time, in a land full of trees, there was a little cherry tree. The cherry tree was very sad because it did not have any friends. All the other trees were big and strong, but the cherry tree was small and weak. The cherry tree was envious of the big trees.\n",
      "\n",
      "One day, the cherry tree felt a tickle in its branches. It was a little spring wind. The wind told the cherry tree not to be sad. The wind said, \"You are special because you have sweet cherries that everyone loves.\" The cherry tree started to feel a little better.\n",
      "\n",
      "As time went on, the cherry tree grew more and more cherries. All the animals in the land came to eat the cherries and play under the cherry tree. The cherry tree was happy because it had many friends now. The cherry tree learned that being different can be a good thing. And they all lived happily ever after.\n",
      "dict_keys(['text'])\n",
      "---------\n",
      "Once upon a time, there was a little girl named Lily. Lily liked to pretend she was a popular princess. She lived in a big castle with her best friends, a cat and a dog.\n",
      "\n",
      "One day, while playing in the castle, Lily found a big cobweb. The cobweb was in the way of her fun game. She wanted to get rid of it, but she was scared of the spider that lived there.\n",
      "\n",
      "Lily asked her friends, the cat and the dog, to help her. They all worked together to clean the cobweb. The spider was sad, but it found a new home outside. Lily, the cat, and the dog were happy they could play without the cobweb in the way. And they all lived happily ever after.\n",
      "dict_keys(['text'])\n",
      "---------\n",
      "Once upon a time, in a big lake, there was a brown kayak. The brown kayak liked to roll in the water all day long. It was very happy when it could roll and splash in the lake.\n",
      "\n",
      "One day, a little boy named Tim came to play with the brown kayak. Tim and the brown kayak rolled in the water together. They laughed and had a lot of fun. The sun was shining, and the water was warm.\n",
      "\n",
      "After a while, it was time for Tim to go home. He said goodbye to the brown kayak and gave it a big hug. The brown kayak was sad to see Tim go, but it knew they would play together again soon. So, the brown kayak kept rolling in the water, waiting for the next fun day with Tim.\n",
      "dict_keys(['text'])\n",
      "---------\n",
      "Once upon a time, in a small town, there was a troubled little girl named Lily. She was always sad because she lost her favorite toy, a triangle. She looked everywhere in her house but could not find it.\n",
      "\n",
      "One sunny day, Lily went to the park to play. She saw a big puddle of water and thought her triangle might be there. She put her hand in the water to soak it and looked for her toy. She felt something at the bottom of the puddle.\n",
      "\n",
      "Lily pulled it out and saw that it was her triangle! She was so happy that she found it. From that day on, Lily was never troubled again. She played with her triangle every day and always kept it close to her. And when she saw puddles, she would smile and remember how she found her toy.\n",
      "dict_keys(['text'])\n"
     ]
    }
   ],
   "source": [
    "i=0\n",
    "for row in train_df:\n",
    "    c = row['text']\n",
    "    print(c)\n",
    "    print(row.keys())\n",
    "    \n",
    "    if i > 5:\n",
    "        break\n",
    "    else:\n",
    "        i = i + 1\n",
    "        print('---------')\n",
    "        continue"
   ]
  },
  {
   "cell_type": "code",
   "execution_count": 18,
   "id": "b62d9f1d",
   "metadata": {},
   "outputs": [
    {
     "name": "stdout",
     "output_type": "stream",
     "text": [
      "Checking Collate Function Performance :\n",
      "Without Instruction Masking :: \n",
      "Input:  tensor([[    0,     1,     2,     3,     4],\n",
      "        [    5,     6, 50256, 50256, 50256],\n",
      "        [    7,     8,     9, 50256, 50256]])\n",
      "Target:  tensor([[    1,     2,     3,     4, 50256],\n",
      "        [    6, 50256, 50256, 50256, 50256],\n",
      "        [    8,     9, 50256, 50256, 50256]])\n",
      "------------------\n"
     ]
    }
   ],
   "source": [
    "inputs_1 = ([0, 1, 2, 3, 4]) #6, 6 --> 0 pad token in x\n",
    "inputs_2 = ([5, 6]) #3 pad token in x\n",
    "inputs_3 = ([7, 8, 9]) #2 pad token in x\n",
    "\n",
    "\n",
    "batch = (\n",
    "    inputs_1,\n",
    "    inputs_2,\n",
    "    inputs_3\n",
    ")\n",
    "\n",
    "print('Checking Collate Function Performance :')\n",
    "\n",
    "print('Without Instruction Masking :: ')\n",
    "i, t = custom_collate_pretrain(batch=batch)\n",
    "print('Input: ', i)\n",
    "print('Target: ', t)\n",
    "print('------------------')"
   ]
  },
  {
   "cell_type": "code",
   "execution_count": 19,
   "id": "2f503260",
   "metadata": {},
   "outputs": [
    {
     "name": "stdout",
     "output_type": "stream",
     "text": [
      "Device Available:  cuda\n"
     ]
    }
   ],
   "source": [
    "device = torch.device(\"cuda\" if torch.cuda.is_available() else \"cpu\")\n",
    "print('Device Available: ', device)"
   ]
  },
  {
   "cell_type": "code",
   "execution_count": 20,
   "id": "49fb1f67",
   "metadata": {},
   "outputs": [],
   "source": [
    "def print_loader(loader):\n",
    "    i=0\n",
    "    for inputs, targets in loader:\n",
    "        print(inputs.shape, targets.shape)\n",
    "        if i > 10:\n",
    "            break\n",
    "        else:\n",
    "            i += 1"
   ]
  },
  {
   "cell_type": "code",
   "execution_count": 46,
   "id": "0b361e69",
   "metadata": {},
   "outputs": [
    {
     "name": "stdout",
     "output_type": "stream",
     "text": [
      "dataset got\n",
      "Number of training batches ::  264964\n",
      "Train Loader ::\n",
      "torch.Size([8, 64]) torch.Size([8, 64])\n",
      "torch.Size([8, 64]) torch.Size([8, 64])\n",
      "torch.Size([8, 64]) torch.Size([8, 64])\n",
      "torch.Size([8, 64]) torch.Size([8, 64])\n",
      "torch.Size([8, 64]) torch.Size([8, 64])\n",
      "torch.Size([8, 64]) torch.Size([8, 64])\n",
      "torch.Size([8, 64]) torch.Size([8, 64])\n",
      "torch.Size([8, 64]) torch.Size([8, 64])\n",
      "torch.Size([8, 64]) torch.Size([8, 64])\n",
      "torch.Size([8, 64]) torch.Size([8, 64])\n",
      "torch.Size([8, 64]) torch.Size([8, 64])\n",
      "torch.Size([8, 64]) torch.Size([8, 64])\n",
      "--------------------------\n",
      "dataset got\n",
      "Number of validation batches ::  2748\n",
      "Validation Loader ::\n",
      "torch.Size([8, 64]) torch.Size([8, 64])\n",
      "torch.Size([8, 64]) torch.Size([8, 64])\n",
      "torch.Size([8, 64]) torch.Size([8, 64])\n",
      "torch.Size([8, 64]) torch.Size([8, 64])\n",
      "torch.Size([8, 64]) torch.Size([8, 64])\n",
      "torch.Size([8, 64]) torch.Size([8, 64])\n",
      "torch.Size([8, 64]) torch.Size([8, 64])\n",
      "torch.Size([8, 64]) torch.Size([8, 64])\n",
      "torch.Size([8, 64]) torch.Size([8, 64])\n",
      "torch.Size([8, 64]) torch.Size([8, 64])\n",
      "torch.Size([8, 64]) torch.Size([8, 64])\n",
      "torch.Size([8, 64]) torch.Size([8, 64])\n",
      "--------------------------\n"
     ]
    }
   ],
   "source": [
    "train_loader = GPTCustomPretrainDataloader(train_df, device=device, max_seq_length=64)\n",
    "print('Number of training batches :: ', len(train_loader))\n",
    "\n",
    "print('Train Loader ::')\n",
    "print_loader(train_loader)\n",
    "print('--------------------------')\n",
    "\n",
    "val_loader = GPTCustomPretrainDataloader(val_df, device=device, max_seq_length=64)\n",
    "print('Number of validation batches :: ', len(val_loader))\n",
    "\n",
    "print('Validation Loader ::')\n",
    "print_loader(val_loader)\n",
    "print('--------------------------')"
   ]
  },
  {
   "cell_type": "code",
   "execution_count": 47,
   "id": "c07d40fb",
   "metadata": {},
   "outputs": [
    {
     "name": "stdout",
     "output_type": "stream",
     "text": [
      "dataset got\n",
      "Number of training batches ::  264964\n",
      "Train Loader ::\n",
      "torch.Size([8, 263]) torch.Size([8, 263])\n",
      "torch.Size([8, 577]) torch.Size([8, 577])\n",
      "torch.Size([8, 338]) torch.Size([8, 338])\n",
      "torch.Size([8, 271]) torch.Size([8, 271])\n",
      "torch.Size([8, 232]) torch.Size([8, 232])\n",
      "torch.Size([8, 761]) torch.Size([8, 761])\n",
      "torch.Size([8, 258]) torch.Size([8, 258])\n",
      "torch.Size([8, 319]) torch.Size([8, 319])\n",
      "torch.Size([8, 477]) torch.Size([8, 477])\n",
      "torch.Size([8, 269]) torch.Size([8, 269])\n",
      "torch.Size([8, 382]) torch.Size([8, 382])\n",
      "torch.Size([8, 562]) torch.Size([8, 562])\n",
      "--------------------------\n",
      "dataset got\n",
      "Number of validation batches ::  2748\n",
      "Validation Loader ::\n",
      "torch.Size([8, 668]) torch.Size([8, 668])\n",
      "torch.Size([8, 522]) torch.Size([8, 522])\n",
      "torch.Size([8, 574]) torch.Size([8, 574])\n",
      "torch.Size([8, 240]) torch.Size([8, 240])\n",
      "torch.Size([8, 201]) torch.Size([8, 201])\n",
      "torch.Size([8, 298]) torch.Size([8, 298])\n",
      "torch.Size([8, 295]) torch.Size([8, 295])\n",
      "torch.Size([8, 681]) torch.Size([8, 681])\n",
      "torch.Size([8, 308]) torch.Size([8, 308])\n",
      "torch.Size([8, 390]) torch.Size([8, 390])\n",
      "torch.Size([8, 471]) torch.Size([8, 471])\n",
      "torch.Size([8, 194]) torch.Size([8, 194])\n",
      "--------------------------\n"
     ]
    }
   ],
   "source": [
    "train_loader = GPTCustomPretrainDataloader(train_df, device=device, max_seq_length=None)\n",
    "print('Number of training batches :: ', len(train_loader))\n",
    "\n",
    "print('Train Loader ::')\n",
    "print_loader(train_loader)\n",
    "print('--------------------------')\n",
    "\n",
    "val_loader = GPTCustomPretrainDataloader(val_df, device=device, max_seq_length=None)\n",
    "print('Number of validation batches :: ', len(val_loader))\n",
    "\n",
    "print('Validation Loader ::')\n",
    "print_loader(val_loader)\n",
    "print('--------------------------')"
   ]
  },
  {
   "cell_type": "code",
   "execution_count": null,
   "id": "f06a06a2",
   "metadata": {},
   "outputs": [],
   "source": []
  },
  {
   "cell_type": "code",
   "execution_count": null,
   "id": "a1d62cbe",
   "metadata": {},
   "outputs": [],
   "source": []
  },
  {
   "cell_type": "code",
   "execution_count": null,
   "id": "321899af",
   "metadata": {},
   "outputs": [],
   "source": []
  }
 ],
 "metadata": {
  "kernelspec": {
   "display_name": "torch-gpu-cuda12.5",
   "language": "python",
   "name": "python3"
  },
  "language_info": {
   "codemirror_mode": {
    "name": "ipython",
    "version": 3
   },
   "file_extension": ".py",
   "mimetype": "text/x-python",
   "name": "python",
   "nbconvert_exporter": "python",
   "pygments_lexer": "ipython3",
   "version": "3.11.9"
  }
 },
 "nbformat": 4,
 "nbformat_minor": 5
}
