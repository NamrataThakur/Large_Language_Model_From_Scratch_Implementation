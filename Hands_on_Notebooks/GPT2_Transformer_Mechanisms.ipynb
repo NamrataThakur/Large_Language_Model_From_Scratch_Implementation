{
 "cells": [
  {
   "cell_type": "markdown",
   "metadata": {},
   "source": [
    "Hands-on Code Implementation of the Chapter 04 of 'Build LLM From Scratch'."
   ]
  },
  {
   "cell_type": "code",
   "execution_count": 1,
   "metadata": {},
   "outputs": [
    {
     "name": "stdout",
     "output_type": "stream",
     "text": [
      "matplotlib version: 3.9.2\n",
      "torch version: 2.4.0\n",
      "tiktoken version: 0.7.0\n"
     ]
    }
   ],
   "source": [
    "from importlib.metadata import version\n",
    "\n",
    "import matplotlib\n",
    "import tiktoken\n",
    "import torch\n",
    "import torch.nn as nn\n",
    "import sys\n",
    "from pathlib import Path\n",
    "import matplotlib.pyplot as plt\n",
    "\n",
    "print(\"matplotlib version:\", version(\"matplotlib\"))\n",
    "print(\"torch version:\", version(\"torch\"))\n",
    "print(\"tiktoken version:\", version(\"tiktoken\"))"
   ]
  },
  {
   "cell_type": "code",
   "execution_count": 56,
   "metadata": {},
   "outputs": [],
   "source": [
    "#Loading the attention classes: \n",
    "\n",
    "sys.path.insert(0, 'D:\\LLM_Deeplearning.ai\\SEBASTIAN_RASCHKA\\LLMs-from-scratch-main\\LLMs-from-scratch-main\\ch03\\Attention_Implementation')\n",
    "sys.path.insert(1, \"D:\\LLM_Deeplearning.ai\\SEBASTIAN_RASCHKA\\LLMs-from-scratch-main\\LLMs-from-scratch-main\\ch04\\Transformer_Implementation\")\n",
    "#sys.path[0] = str(Path(sys.path[0]).parent)\n",
    "from causal_multi_head_attention import MultiHead_Attention\n",
    "from causal_attention import Causal_Attention\n",
    "from self_attention import Self_Attention\n",
    "\n",
    "from feedforward import FeedForwardBlock\n",
    "from gelu import GELU\n",
    "from layernorm import LayerNormalization\n",
    "from transformer import TransformerBlock\n",
    "from gpt2 import GPT2\n"
   ]
  },
  {
   "cell_type": "code",
   "execution_count": 3,
   "metadata": {},
   "outputs": [
    {
     "data": {
      "text/plain": [
       "['D:\\\\LLM_Deeplearning.ai\\\\SEBASTIAN_RASCHKA\\\\LLMs-from-scratch-main\\\\LLMs-from-scratch-main\\\\ch03\\\\Attention_Implementation',\n",
       " 'D:\\\\LLM_Deeplearning.ai\\\\SEBASTIAN_RASCHKA\\\\LLMs-from-scratch-main\\\\LLMs-from-scratch-main\\\\ch04\\\\Transformer_Implementation',\n",
       " 'c:\\\\Users\\\\Public\\\\anaconda3\\\\envs\\\\torch-gpu-cuda12.5\\\\python311.zip',\n",
       " 'c:\\\\Users\\\\Public\\\\anaconda3\\\\envs\\\\torch-gpu-cuda12.5\\\\DLLs',\n",
       " 'c:\\\\Users\\\\Public\\\\anaconda3\\\\envs\\\\torch-gpu-cuda12.5\\\\Lib',\n",
       " 'c:\\\\Users\\\\Public\\\\anaconda3\\\\envs\\\\torch-gpu-cuda12.5',\n",
       " '',\n",
       " 'c:\\\\Users\\\\Public\\\\anaconda3\\\\envs\\\\torch-gpu-cuda12.5\\\\Lib\\\\site-packages',\n",
       " 'c:\\\\Users\\\\Public\\\\anaconda3\\\\envs\\\\torch-gpu-cuda12.5\\\\Lib\\\\site-packages\\\\win32',\n",
       " 'c:\\\\Users\\\\Public\\\\anaconda3\\\\envs\\\\torch-gpu-cuda12.5\\\\Lib\\\\site-packages\\\\win32\\\\lib',\n",
       " 'c:\\\\Users\\\\Public\\\\anaconda3\\\\envs\\\\torch-gpu-cuda12.5\\\\Lib\\\\site-packages\\\\Pythonwin',\n",
       " 'c:\\\\Users\\\\Public\\\\anaconda3\\\\envs\\\\torch-gpu-cuda12.5\\\\Lib\\\\site-packages\\\\setuptools\\\\_vendor']"
      ]
     },
     "execution_count": 3,
     "metadata": {},
     "output_type": "execute_result"
    }
   ],
   "source": [
    "#Checking the contents of the system path:\n",
    "#sys.path"
   ]
  },
  {
   "cell_type": "markdown",
   "metadata": {},
   "source": [
    "### GPT Backbone:"
   ]
  },
  {
   "cell_type": "code",
   "execution_count": 4,
   "metadata": {},
   "outputs": [],
   "source": [
    "#GPT Config:\n",
    "GPT2_CONFIG = {\n",
    "    'vocab_size':50257,\n",
    "    'embedding_dimension':768,\n",
    "    'num_heads':12,\n",
    "    'context_length':1024,\n",
    "    'dropout':0.1,\n",
    "    'qkv_bias':False,\n",
    "    'num_layers':12,\n",
    "}"
   ]
  },
  {
   "cell_type": "code",
   "execution_count": 5,
   "metadata": {},
   "outputs": [],
   "source": [
    "#Creating the backbone of the GPT Class:\n",
    "\n",
    "class GPTDummyBackbone(nn.Module):\n",
    "    def __init__(self, config):\n",
    "        super().__init__()\n",
    "        self.token_embedding = nn.Embedding(config['vocab_size'],config['embedding_dimension'])\n",
    "        self.pos_embedding = nn.Embedding(config['context_length'],config['embedding_dimension'])\n",
    "        self.token_dropout = nn.Dropout(config['dropout'])\n",
    "\n",
    "        self.transformer_block = nn.Sequential(\n",
    "            *[DummyTransformerBlock(config) for _ in range(config['num_layers'])]\n",
    "        )\n",
    "\n",
    "        self.final_layerNorm = DummyLayerNorm(config)\n",
    "\n",
    "        self.final_projection = nn.Linear(config['embedding_dimension'],config['vocab_size'],bias=False)\n",
    "\n",
    "    def forward(self,token_list):\n",
    "\n",
    "        batch_size, context_length = token_list.shape\n",
    "\n",
    "        #Get the embeddings for the list of tokens:\n",
    "        token_embed = self.token_embedding(token_list)\n",
    "\n",
    "        #Get the postional embeddings for the list of tokens:\n",
    "        pos_embed = self.pos_embedding(torch.arange(context_length, device=token_list.device))\n",
    "\n",
    "        #Final Embeddings:\n",
    "        input = token_embed + pos_embed\n",
    "\n",
    "        #Pass the input through the dropout layer:\n",
    "        input = self.token_dropout(input)\n",
    "\n",
    "        #Pass the dropped out input through the transformer blocks:\n",
    "        input = self.transformer_block(input)\n",
    "\n",
    "        #Pass the output through the final layer normalization block:\n",
    "        input = self.final_layerNorm(input)\n",
    "\n",
    "        #Pass the output through the final projection/linear layer:\n",
    "        logits = self.final_projection(input)\n",
    "\n",
    "        return logits\n",
    "\n",
    "#Creating the backbone of the Transformer Class:\n",
    "class DummyTransformerBlock(nn.Module):\n",
    "    def __init__(self, config):\n",
    "        super().__init__()\n",
    "\n",
    "    def forward(self,input):\n",
    "        return input\n",
    "    \n",
    "#Creating the backbone of the Layer Normalization Class:\n",
    "class DummyLayerNorm(nn.Module):\n",
    "    def __init__(self, config):\n",
    "        super().__init__()\n",
    "\n",
    "    def forward(self,input):\n",
    "        return input\n"
   ]
  },
  {
   "cell_type": "code",
   "execution_count": 6,
   "metadata": {},
   "outputs": [],
   "source": [
    "#Create the tokens:\n",
    "def create_tokens(embedding_name,input):\n",
    "    encoding = tiktoken.get_encoding(embedding_name)\n",
    "    batch_inputs = []\n",
    "    for i in range(len(input)):\n",
    "        batch_inputs.append(torch.tensor(encoding.encode(input[i])))\n",
    "\n",
    "    batch_inputs = torch.stack(batch_inputs,dim=0)\n",
    "    return batch_inputs"
   ]
  },
  {
   "cell_type": "code",
   "execution_count": 7,
   "metadata": {},
   "outputs": [
    {
     "name": "stdout",
     "output_type": "stream",
     "text": [
      "tensor([[6109, 3626, 6100,  345],\n",
      "        [6109, 1110, 6622,  257]])\n"
     ]
    }
   ],
   "source": [
    "input = [\"Every effort moves you\",\"Every day holds a\"]\n",
    "batch_tokens = create_tokens('gpt2',input)\n",
    "print(batch_tokens)"
   ]
  },
  {
   "cell_type": "code",
   "execution_count": 8,
   "metadata": {},
   "outputs": [
    {
     "name": "stdout",
     "output_type": "stream",
     "text": [
      "tensor([[[-0.9289,  0.2748, -0.7557,  ..., -1.6070,  0.2702, -0.5888],\n",
      "         [-0.4476,  0.1726,  0.5354,  ..., -0.3932,  1.5285,  0.8557],\n",
      "         [ 0.5680,  1.6053, -0.2155,  ...,  1.1624,  0.1380,  0.7425],\n",
      "         [ 0.0447,  2.4787, -0.8843,  ...,  1.3219, -0.0864, -0.5856]],\n",
      "\n",
      "        [[-1.5474, -0.0542, -1.0571,  ..., -1.8061, -0.4494, -0.6747],\n",
      "         [-0.8422,  0.8243, -0.1098,  ..., -0.1434,  0.2079,  1.2046],\n",
      "         [ 0.1355,  1.1858, -0.1453,  ...,  0.0869, -0.1590,  0.1552],\n",
      "         [ 0.1666, -0.8138,  0.2307,  ...,  2.5035, -0.3055, -0.3083]]],\n",
      "       grad_fn=<UnsafeViewBackward0>)\n",
      "Output Shape:  torch.Size([2, 4, 50257])\n"
     ]
    }
   ],
   "source": [
    "torch.manual_seed(123)\n",
    "gpt = GPTDummyBackbone(GPT2_CONFIG)\n",
    "logits = gpt(batch_tokens)\n",
    "print(logits)\n",
    "print('Output Shape: ', logits.shape)"
   ]
  },
  {
   "cell_type": "markdown",
   "metadata": {},
   "source": [
    "### Submodule 1: Layer Normalization"
   ]
  },
  {
   "cell_type": "code",
   "execution_count": 53,
   "metadata": {},
   "outputs": [],
   "source": [
    "def layer_normalization(inputs):\n",
    "    print('Inputs: ', inputs)\n",
    "    mean = inputs.mean(dim=-1, keepdim=True)\n",
    "    var = inputs.var(dim=-1, keepdim=True)\n",
    "\n",
    "    print('\\nInitial Mean:\\n ', mean)\n",
    "    print('\\nInitial Var: \\n', var)\n",
    "    eps = 1e-5\n",
    "    scale = nn.Parameter(torch.ones(inputs.shape[-1]))\n",
    "    shift = nn.Parameter(torch.zeros(inputs.shape[-1]))\n",
    "\n",
    "    normalized_outputs = (inputs - mean) / torch.sqrt(var+eps)\n",
    "    output_mean = normalized_outputs.mean(dim=-1, keepdim=True)\n",
    "    output_var = normalized_outputs.var(dim=-1, keepdim=True)\n",
    "\n",
    "    print('\\nOutput Mean:\\n ', output_mean)\n",
    "    print('\\nOutput Var:\\n ', output_var)\n",
    "\n",
    "    scaled_shifted_input = normalized_outputs * scale + shift\n",
    "\n",
    "    return scaled_shifted_input"
   ]
  },
  {
   "cell_type": "code",
   "execution_count": 54,
   "metadata": {},
   "outputs": [
    {
     "name": "stdout",
     "output_type": "stream",
     "text": [
      "Inputs:  tensor([[ 0.3895, -0.2203, -0.2235, -0.1244,  0.6540, -0.4583],\n",
      "        [ 0.6638, -0.7456, -0.1868, -0.1832,  0.4362, -0.6315],\n",
      "        [ 0.3498, -0.0483, -0.1326, -0.1694,  0.1667, -0.6135]],\n",
      "       grad_fn=<MmBackward0>)\n",
      "\n",
      "Initial Mean:\n",
      "  tensor([[ 0.0028],\n",
      "        [-0.1079],\n",
      "        [-0.0745]], grad_fn=<MeanBackward1>)\n",
      "\n",
      "Initial Var: \n",
      " tensor([[0.1807],\n",
      "        [0.3168],\n",
      "        [0.1084]], grad_fn=<VarBackward0>)\n",
      "\n",
      "Output Mean:\n",
      "  tensor([[    -0.0000],\n",
      "        [     0.0000],\n",
      "        [     0.0000]], grad_fn=<MeanBackward1>)\n",
      "\n",
      "Output Var:\n",
      "  tensor([[0.9999],\n",
      "        [1.0000],\n",
      "        [0.9999]], grad_fn=<VarBackward0>)\n",
      "\n",
      "Outputs:\n",
      "  tensor([[ 0.9096, -0.5249, -0.5326, -0.2993,  1.5319, -1.0848],\n",
      "        [ 1.3708, -1.1329, -0.1403, -0.1338,  0.9665, -0.9303],\n",
      "        [ 1.2891,  0.0798, -0.1764, -0.2882,  0.7328, -1.6371]],\n",
      "       grad_fn=<AddBackward0>)\n"
     ]
    }
   ],
   "source": [
    "torch.set_printoptions(sci_mode=False)\n",
    "\n",
    "inputs = torch.rand(3,5)\n",
    "\n",
    "linear = nn.Linear(5,6,bias=False)\n",
    "linear_inputs = linear(inputs)\n",
    "\n",
    "outputs = layer_normalization(linear_inputs)\n",
    "print('\\nOutputs:\\n ', outputs)"
   ]
  },
  {
   "cell_type": "markdown",
   "metadata": {},
   "source": [
    "### Submodule 2: Activations"
   ]
  },
  {
   "cell_type": "code",
   "execution_count": 11,
   "metadata": {},
   "outputs": [],
   "source": [
    "def activations(inputs,activation_type='relu'):\n",
    "    print('Activation Type: ', activation_type)\n",
    "\n",
    "    if activation_type == 'relu':\n",
    "        relu = nn.ReLU()\n",
    "        activation_outputs = relu(inputs)\n",
    "    else:\n",
    "        activation_outputs = 0.5 * inputs * ( 1 + torch.tanh((torch.sqrt(torch.tensor(2.0 /torch.pi)))\n",
    "                                                             * \n",
    "                                                             (inputs + 0.044715 * torch.pow(inputs,3)) \n",
    "                                                             )\n",
    "                                            )\n",
    "    \n",
    "    return activation_outputs"
   ]
  },
  {
   "cell_type": "code",
   "execution_count": 12,
   "metadata": {},
   "outputs": [
    {
     "name": "stdout",
     "output_type": "stream",
     "text": [
      "Activation Type:  gelu\n",
      "Activation Type:  relu\n"
     ]
    },
    {
     "data": {
      "image/png": "[encoded data removed]",
      "text/plain": [
       "<Figure size 800x300 with 2 Axes>"
      ]
     },
     "metadata": {},
     "output_type": "display_data"
    }
   ],
   "source": [
    "x = torch.linspace(-3, 3, 1000)\n",
    "\n",
    "y_gelu = activations(x,'gelu')\n",
    "y_relu = activations(x,'relu')\n",
    "\n",
    "plt.figure(figsize=(8, 3))\n",
    "for i, (y, label) in enumerate(zip([y_gelu, y_relu], [\"GELU\", \"ReLU\"]), 1):\n",
    "    plt.subplot(1, 2, i)\n",
    "    plt.plot(x, y)\n",
    "    plt.title(f\"{label} activation function\")\n",
    "    plt.xlabel(\"x\")\n",
    "    plt.ylabel(f\"{label}(x)\")\n",
    "    plt.grid(True)\n",
    "\n",
    "plt.tight_layout()\n",
    "plt.show()"
   ]
  },
  {
   "cell_type": "markdown",
   "metadata": {},
   "source": [
    "### Submodule 3: FeedForward Layers"
   ]
  },
  {
   "cell_type": "code",
   "execution_count": 20,
   "metadata": {},
   "outputs": [
    {
     "name": "stdout",
     "output_type": "stream",
     "text": [
      "Feed Forward Outputs:\n",
      " tensor([[[-0.1093,  0.1036, -0.0993,  ...,  0.1544,  0.0850, -0.0392],\n",
      "         [-0.0327,  0.0328, -0.0626,  ...,  0.0928,  0.0240,  0.0093],\n",
      "         [-0.0621,  0.0158, -0.0885,  ...,  0.1898,  0.0158, -0.0376]],\n",
      "\n",
      "        [[-0.0348, -0.0492,  0.0358,  ...,  0.2244,  0.1093, -0.0123],\n",
      "         [-0.0472,  0.0981, -0.0688,  ...,  0.2097,  0.0349,  0.0657],\n",
      "         [-0.1848,  0.0104,  0.0245,  ...,  0.2260,  0.0982, -0.0207]]],\n",
      "       grad_fn=<ViewBackward0>)\n",
      "Shape:  torch.Size([2, 3, 768])\n"
     ]
    }
   ],
   "source": [
    "feedforward = FeedForwardBlock(GPT2_CONFIG)\n",
    "x = torch.rand(2, 3, 768) \n",
    "ff_outputs = feedforward(x)\n",
    "print('Feed Forward Outputs:\\n', ff_outputs)\n",
    "print('Shape: ', ff_outputs.shape)"
   ]
  },
  {
   "cell_type": "markdown",
   "metadata": {},
   "source": [
    "### Submodule 4: Residuals"
   ]
  },
  {
   "cell_type": "code",
   "execution_count": 43,
   "metadata": {},
   "outputs": [],
   "source": [
    "#Tutorial on the benefits of residual:\n",
    "class DeepNetwork(nn.Module):\n",
    "    def __init__(self,num_neurons,residual=False):\n",
    "        super().__init__()\n",
    "        self.layers = nn.ModuleList([\n",
    "            nn.Linear(num_neurons[0],num_neurons[1],GELU()),\n",
    "            nn.Linear(num_neurons[1],num_neurons[2],GELU()),\n",
    "            nn.Linear(num_neurons[2],num_neurons[3],GELU()),\n",
    "            nn.Linear(num_neurons[3],num_neurons[4],GELU()),\n",
    "            nn.Linear(num_neurons[4],num_neurons[5],GELU())\n",
    "        ])\n",
    "        self.residual = residual\n",
    "\n",
    "    def forward(self,input):\n",
    "        x = input\n",
    "        for layer in self.layers:\n",
    "            output = layer(x)\n",
    "            if self.residual and output.shape == x.shape:\n",
    "                x = output + x\n",
    "            else:\n",
    "                x = output\n",
    "        \n",
    "        return x\n",
    "    \n",
    "def compute_loss(model,inputs):\n",
    "    y_pred = model(inputs)\n",
    "    y_true = torch.tensor([[0.]])\n",
    "\n",
    "    loss = nn.MSELoss()\n",
    "    l = loss(y_pred,y_true)\n",
    "\n",
    "    l.backward()\n",
    "\n",
    "    for name,param in model.named_parameters():\n",
    "        if 'weight' in name:\n",
    "            print(f\"{name} has gradient mean of {param.grad.abs().mean().item()}\")\n"
   ]
  },
  {
   "cell_type": "code",
   "execution_count": 47,
   "metadata": {},
   "outputs": [
    {
     "name": "stdout",
     "output_type": "stream",
     "text": [
      "WITHOUT RESIDUAL:::\n",
      "layers.0.weight has gradient mean of 0.0008832925814203918\n",
      "layers.1.weight has gradient mean of 0.001083269133232534\n",
      "layers.2.weight has gradient mean of 0.004338949918746948\n",
      "layers.3.weight has gradient mean of 0.004670488182455301\n",
      "layers.4.weight has gradient mean of 0.030293656513094902\n",
      "None\n",
      "WITH RESIDUAL:::\n",
      "layers.0.weight has gradient mean of 0.01008217316120863\n",
      "layers.1.weight has gradient mean of 0.012564634904265404\n",
      "layers.2.weight has gradient mean of 0.016338523477315903\n",
      "layers.3.weight has gradient mean of 0.013615252450108528\n",
      "layers.4.weight has gradient mean of 0.1283888965845108\n",
      "None\n"
     ]
    }
   ],
   "source": [
    "neurons = [3, 4, 5, 6, 7, 1]\n",
    "sample_input = torch.tensor([[1., 0., -1., ]])\n",
    "torch.manual_seed(123)\n",
    "network = DeepNetwork(neurons, residual=False)\n",
    "print(\"WITHOUT RESIDUAL:::\")\n",
    "print(compute_loss(network,sample_input))\n",
    "print(\"WITH RESIDUAL:::\")\n",
    "network_residual = DeepNetwork(neurons,residual=True)\n",
    "print(compute_loss(network_residual,sample_input))\n"
   ]
  },
  {
   "cell_type": "markdown",
   "metadata": {},
   "source": [
    "### Main Module 1: Transformer Block"
   ]
  },
  {
   "cell_type": "code",
   "execution_count": 57,
   "metadata": {},
   "outputs": [
    {
     "name": "stdout",
     "output_type": "stream",
     "text": [
      "Input shape: torch.Size([2, 4, 768])\n",
      "Output shape: torch.Size([2, 4, 768])\n"
     ]
    }
   ],
   "source": [
    "x = torch.rand(2, 4, 768)\n",
    "transformer_block = TransformerBlock(GPT2_CONFIG)\n",
    "output = transformer_block(x)\n",
    "\n",
    "print(\"Input shape:\", x.shape)\n",
    "print(\"Output shape:\", output.shape)"
   ]
  },
  {
   "cell_type": "markdown",
   "metadata": {},
   "source": [
    "### Main Module 2: GPT Block"
   ]
  },
  {
   "cell_type": "code",
   "execution_count": 62,
   "metadata": {},
   "outputs": [
    {
     "name": "stdout",
     "output_type": "stream",
     "text": [
      "Shape of Custom GPT2's Input:  torch.Size([2, 4])\n",
      "Shape of Custom GPT2's Output:  torch.Size([2, 4, 50257])\n",
      "Custom GPT2's logits::\n",
      " tensor([[[ 0.1768, -0.8737,  0.3266,  ..., -0.3018, -1.1260,  0.2089],\n",
      "         [ 0.1768, -0.8737,  0.3266,  ..., -0.3018, -1.1260,  0.2089],\n",
      "         [ 0.1768, -0.8737,  0.3266,  ..., -0.3018, -1.1260,  0.2089],\n",
      "         [ 0.1768, -0.8737,  0.3266,  ..., -0.3018, -1.1260,  0.2089]],\n",
      "\n",
      "        [[ 0.1768, -0.8737,  0.3266,  ..., -0.3018, -1.1260,  0.2089],\n",
      "         [ 0.1768, -0.8737,  0.3266,  ..., -0.3018, -1.1260,  0.2089],\n",
      "         [ 0.1768, -0.8737,  0.3266,  ..., -0.3018, -1.1260,  0.2089],\n",
      "         [ 0.1768, -0.8737,  0.3266,  ..., -0.3018, -1.1260,  0.2089]]],\n",
      "       grad_fn=<UnsafeViewBackward0>)\n"
     ]
    }
   ],
   "source": [
    "torch.manual_seed(123)\n",
    "gpt2 = GPT2(GPT2_CONFIG)\n",
    "gpt2_logits = gpt2(batch_tokens)\n",
    "print('Shape of Custom GPT2\\'s Input: ', batch_tokens.shape)\n",
    "print('Shape of Custom GPT2\\'s Output: ', gpt2_logits.shape)\n",
    "print('Custom GPT2\\'s logits::\\n',gpt2_logits)"
   ]
  },
  {
   "cell_type": "code",
   "execution_count": 63,
   "metadata": {},
   "outputs": [],
   "source": [
    "#Calculate the number of parameters in Custom GPT2 Model:\n",
    "def compute_model_params(model):\n",
    "    num_params = 0\n",
    "    for params in model.parameters():\n",
    "        num_params = num_params + params.numel()\n",
    "    return num_params"
   ]
  },
  {
   "cell_type": "code",
   "execution_count": 66,
   "metadata": {},
   "outputs": [
    {
     "name": "stdout",
     "output_type": "stream",
     "text": [
      "Custom GPT2 Small Total Params: 163,009,536\n"
     ]
    }
   ],
   "source": [
    "gpt2_small = compute_model_params(gpt2)\n",
    "print(f'Custom GPT2 Small Total Params: {gpt2_small:,}')"
   ]
  },
  {
   "cell_type": "code",
   "execution_count": 70,
   "metadata": {},
   "outputs": [
    {
     "name": "stdout",
     "output_type": "stream",
     "text": [
      "Custom GPT2's Architecture: \n",
      " GPT2(\n",
      "  (token_embedding): Embedding(50257, 768)\n",
      "  (pos_embedding): Embedding(1024, 768)\n",
      "  (token_dropout): Dropout(p=0.1, inplace=False)\n",
      "  (transformer_block): Sequential(\n",
      "    (0): TransformerBlock(\n",
      "      (attention_block): MultiHead_Attention(\n",
      "        (W_query): Linear(in_features=768, out_features=768, bias=False)\n",
      "        (W_key): Linear(in_features=768, out_features=768, bias=False)\n",
      "        (W_value): Linear(in_features=768, out_features=768, bias=False)\n",
      "        (dropout): Dropout(p=0.1, inplace=False)\n",
      "        (final_projection): Linear(in_features=768, out_features=768, bias=True)\n",
      "      )\n",
      "      (layer_norm_attention): LayerNormalization()\n",
      "      (layer_norm_feedforward): LayerNormalization()\n",
      "      (dropout): Dropout(p=0.1, inplace=False)\n",
      "      (feedForward): FeedForwardBlock(\n",
      "        (block): Sequential(\n",
      "          (0): Linear(in_features=768, out_features=3072, bias=True)\n",
      "          (1): GELU()\n",
      "          (2): Linear(in_features=3072, out_features=768, bias=True)\n",
      "        )\n",
      "      )\n",
      "    )\n",
      "    (1): TransformerBlock(\n",
      "      (attention_block): MultiHead_Attention(\n",
      "        (W_query): Linear(in_features=768, out_features=768, bias=False)\n",
      "        (W_key): Linear(in_features=768, out_features=768, bias=False)\n",
      "        (W_value): Linear(in_features=768, out_features=768, bias=False)\n",
      "        (dropout): Dropout(p=0.1, inplace=False)\n",
      "        (final_projection): Linear(in_features=768, out_features=768, bias=True)\n",
      "      )\n",
      "      (layer_norm_attention): LayerNormalization()\n",
      "      (layer_norm_feedforward): LayerNormalization()\n",
      "      (dropout): Dropout(p=0.1, inplace=False)\n",
      "      (feedForward): FeedForwardBlock(\n",
      "        (block): Sequential(\n",
      "          (0): Linear(in_features=768, out_features=3072, bias=True)\n",
      "          (1): GELU()\n",
      "          (2): Linear(in_features=3072, out_features=768, bias=True)\n",
      "        )\n",
      "      )\n",
      "    )\n",
      "    (2): TransformerBlock(\n",
      "      (attention_block): MultiHead_Attention(\n",
      "        (W_query): Linear(in_features=768, out_features=768, bias=False)\n",
      "        (W_key): Linear(in_features=768, out_features=768, bias=False)\n",
      "        (W_value): Linear(in_features=768, out_features=768, bias=False)\n",
      "        (dropout): Dropout(p=0.1, inplace=False)\n",
      "        (final_projection): Linear(in_features=768, out_features=768, bias=True)\n",
      "      )\n",
      "      (layer_norm_attention): LayerNormalization()\n",
      "      (layer_norm_feedforward): LayerNormalization()\n",
      "      (dropout): Dropout(p=0.1, inplace=False)\n",
      "      (feedForward): FeedForwardBlock(\n",
      "        (block): Sequential(\n",
      "          (0): Linear(in_features=768, out_features=3072, bias=True)\n",
      "          (1): GELU()\n",
      "          (2): Linear(in_features=3072, out_features=768, bias=True)\n",
      "        )\n",
      "      )\n",
      "    )\n",
      "    (3): TransformerBlock(\n",
      "      (attention_block): MultiHead_Attention(\n",
      "        (W_query): Linear(in_features=768, out_features=768, bias=False)\n",
      "        (W_key): Linear(in_features=768, out_features=768, bias=False)\n",
      "        (W_value): Linear(in_features=768, out_features=768, bias=False)\n",
      "        (dropout): Dropout(p=0.1, inplace=False)\n",
      "        (final_projection): Linear(in_features=768, out_features=768, bias=True)\n",
      "      )\n",
      "      (layer_norm_attention): LayerNormalization()\n",
      "      (layer_norm_feedforward): LayerNormalization()\n",
      "      (dropout): Dropout(p=0.1, inplace=False)\n",
      "      (feedForward): FeedForwardBlock(\n",
      "        (block): Sequential(\n",
      "          (0): Linear(in_features=768, out_features=3072, bias=True)\n",
      "          (1): GELU()\n",
      "          (2): Linear(in_features=3072, out_features=768, bias=True)\n",
      "        )\n",
      "      )\n",
      "    )\n",
      "    (4): TransformerBlock(\n",
      "      (attention_block): MultiHead_Attention(\n",
      "        (W_query): Linear(in_features=768, out_features=768, bias=False)\n",
      "        (W_key): Linear(in_features=768, out_features=768, bias=False)\n",
      "        (W_value): Linear(in_features=768, out_features=768, bias=False)\n",
      "        (dropout): Dropout(p=0.1, inplace=False)\n",
      "        (final_projection): Linear(in_features=768, out_features=768, bias=True)\n",
      "      )\n",
      "      (layer_norm_attention): LayerNormalization()\n",
      "      (layer_norm_feedforward): LayerNormalization()\n",
      "      (dropout): Dropout(p=0.1, inplace=False)\n",
      "      (feedForward): FeedForwardBlock(\n",
      "        (block): Sequential(\n",
      "          (0): Linear(in_features=768, out_features=3072, bias=True)\n",
      "          (1): GELU()\n",
      "          (2): Linear(in_features=3072, out_features=768, bias=True)\n",
      "        )\n",
      "      )\n",
      "    )\n",
      "    (5): TransformerBlock(\n",
      "      (attention_block): MultiHead_Attention(\n",
      "        (W_query): Linear(in_features=768, out_features=768, bias=False)\n",
      "        (W_key): Linear(in_features=768, out_features=768, bias=False)\n",
      "        (W_value): Linear(in_features=768, out_features=768, bias=False)\n",
      "        (dropout): Dropout(p=0.1, inplace=False)\n",
      "        (final_projection): Linear(in_features=768, out_features=768, bias=True)\n",
      "      )\n",
      "      (layer_norm_attention): LayerNormalization()\n",
      "      (layer_norm_feedforward): LayerNormalization()\n",
      "      (dropout): Dropout(p=0.1, inplace=False)\n",
      "      (feedForward): FeedForwardBlock(\n",
      "        (block): Sequential(\n",
      "          (0): Linear(in_features=768, out_features=3072, bias=True)\n",
      "          (1): GELU()\n",
      "          (2): Linear(in_features=3072, out_features=768, bias=True)\n",
      "        )\n",
      "      )\n",
      "    )\n",
      "    (6): TransformerBlock(\n",
      "      (attention_block): MultiHead_Attention(\n",
      "        (W_query): Linear(in_features=768, out_features=768, bias=False)\n",
      "        (W_key): Linear(in_features=768, out_features=768, bias=False)\n",
      "        (W_value): Linear(in_features=768, out_features=768, bias=False)\n",
      "        (dropout): Dropout(p=0.1, inplace=False)\n",
      "        (final_projection): Linear(in_features=768, out_features=768, bias=True)\n",
      "      )\n",
      "      (layer_norm_attention): LayerNormalization()\n",
      "      (layer_norm_feedforward): LayerNormalization()\n",
      "      (dropout): Dropout(p=0.1, inplace=False)\n",
      "      (feedForward): FeedForwardBlock(\n",
      "        (block): Sequential(\n",
      "          (0): Linear(in_features=768, out_features=3072, bias=True)\n",
      "          (1): GELU()\n",
      "          (2): Linear(in_features=3072, out_features=768, bias=True)\n",
      "        )\n",
      "      )\n",
      "    )\n",
      "    (7): TransformerBlock(\n",
      "      (attention_block): MultiHead_Attention(\n",
      "        (W_query): Linear(in_features=768, out_features=768, bias=False)\n",
      "        (W_key): Linear(in_features=768, out_features=768, bias=False)\n",
      "        (W_value): Linear(in_features=768, out_features=768, bias=False)\n",
      "        (dropout): Dropout(p=0.1, inplace=False)\n",
      "        (final_projection): Linear(in_features=768, out_features=768, bias=True)\n",
      "      )\n",
      "      (layer_norm_attention): LayerNormalization()\n",
      "      (layer_norm_feedforward): LayerNormalization()\n",
      "      (dropout): Dropout(p=0.1, inplace=False)\n",
      "      (feedForward): FeedForwardBlock(\n",
      "        (block): Sequential(\n",
      "          (0): Linear(in_features=768, out_features=3072, bias=True)\n",
      "          (1): GELU()\n",
      "          (2): Linear(in_features=3072, out_features=768, bias=True)\n",
      "        )\n",
      "      )\n",
      "    )\n",
      "    (8): TransformerBlock(\n",
      "      (attention_block): MultiHead_Attention(\n",
      "        (W_query): Linear(in_features=768, out_features=768, bias=False)\n",
      "        (W_key): Linear(in_features=768, out_features=768, bias=False)\n",
      "        (W_value): Linear(in_features=768, out_features=768, bias=False)\n",
      "        (dropout): Dropout(p=0.1, inplace=False)\n",
      "        (final_projection): Linear(in_features=768, out_features=768, bias=True)\n",
      "      )\n",
      "      (layer_norm_attention): LayerNormalization()\n",
      "      (layer_norm_feedforward): LayerNormalization()\n",
      "      (dropout): Dropout(p=0.1, inplace=False)\n",
      "      (feedForward): FeedForwardBlock(\n",
      "        (block): Sequential(\n",
      "          (0): Linear(in_features=768, out_features=3072, bias=True)\n",
      "          (1): GELU()\n",
      "          (2): Linear(in_features=3072, out_features=768, bias=True)\n",
      "        )\n",
      "      )\n",
      "    )\n",
      "    (9): TransformerBlock(\n",
      "      (attention_block): MultiHead_Attention(\n",
      "        (W_query): Linear(in_features=768, out_features=768, bias=False)\n",
      "        (W_key): Linear(in_features=768, out_features=768, bias=False)\n",
      "        (W_value): Linear(in_features=768, out_features=768, bias=False)\n",
      "        (dropout): Dropout(p=0.1, inplace=False)\n",
      "        (final_projection): Linear(in_features=768, out_features=768, bias=True)\n",
      "      )\n",
      "      (layer_norm_attention): LayerNormalization()\n",
      "      (layer_norm_feedforward): LayerNormalization()\n",
      "      (dropout): Dropout(p=0.1, inplace=False)\n",
      "      (feedForward): FeedForwardBlock(\n",
      "        (block): Sequential(\n",
      "          (0): Linear(in_features=768, out_features=3072, bias=True)\n",
      "          (1): GELU()\n",
      "          (2): Linear(in_features=3072, out_features=768, bias=True)\n",
      "        )\n",
      "      )\n",
      "    )\n",
      "    (10): TransformerBlock(\n",
      "      (attention_block): MultiHead_Attention(\n",
      "        (W_query): Linear(in_features=768, out_features=768, bias=False)\n",
      "        (W_key): Linear(in_features=768, out_features=768, bias=False)\n",
      "        (W_value): Linear(in_features=768, out_features=768, bias=False)\n",
      "        (dropout): Dropout(p=0.1, inplace=False)\n",
      "        (final_projection): Linear(in_features=768, out_features=768, bias=True)\n",
      "      )\n",
      "      (layer_norm_attention): LayerNormalization()\n",
      "      (layer_norm_feedforward): LayerNormalization()\n",
      "      (dropout): Dropout(p=0.1, inplace=False)\n",
      "      (feedForward): FeedForwardBlock(\n",
      "        (block): Sequential(\n",
      "          (0): Linear(in_features=768, out_features=3072, bias=True)\n",
      "          (1): GELU()\n",
      "          (2): Linear(in_features=3072, out_features=768, bias=True)\n",
      "        )\n",
      "      )\n",
      "    )\n",
      "    (11): TransformerBlock(\n",
      "      (attention_block): MultiHead_Attention(\n",
      "        (W_query): Linear(in_features=768, out_features=768, bias=False)\n",
      "        (W_key): Linear(in_features=768, out_features=768, bias=False)\n",
      "        (W_value): Linear(in_features=768, out_features=768, bias=False)\n",
      "        (dropout): Dropout(p=0.1, inplace=False)\n",
      "        (final_projection): Linear(in_features=768, out_features=768, bias=True)\n",
      "      )\n",
      "      (layer_norm_attention): LayerNormalization()\n",
      "      (layer_norm_feedforward): LayerNormalization()\n",
      "      (dropout): Dropout(p=0.1, inplace=False)\n",
      "      (feedForward): FeedForwardBlock(\n",
      "        (block): Sequential(\n",
      "          (0): Linear(in_features=768, out_features=3072, bias=True)\n",
      "          (1): GELU()\n",
      "          (2): Linear(in_features=3072, out_features=768, bias=True)\n",
      "        )\n",
      "      )\n",
      "    )\n",
      "  )\n",
      "  (final_layerNorm): LayerNormalization()\n",
      "  (final_projection): Linear(in_features=768, out_features=50257, bias=False)\n",
      ")\n"
     ]
    }
   ],
   "source": [
    "print('Custom GPT2\\'s Architecture: \\n', gpt2)"
   ]
  },
  {
   "cell_type": "code",
   "execution_count": 77,
   "metadata": {},
   "outputs": [
    {
     "name": "stdout",
     "output_type": "stream",
     "text": [
      "Token Embedding Layer Output shape:  torch.Size([50257, 768])\n",
      "Token Embedding Layer Total weights:  38597376\n",
      "Token Embedding Layer Total weights:  786432\n",
      "Final projection(linear) Layer Total weights:  38597376\n",
      "Total GPT2's weights with weight sharing on final projection layer: 124,412,160\n"
     ]
    }
   ],
   "source": [
    "print('Token Embedding Layer Output shape: ', gpt2.token_embedding.weight.shape)\n",
    "print('Token Embedding Layer Total weights: ', gpt2.token_embedding.weight.numel())\n",
    "print('Token Embedding Layer Total weights: ', gpt2.pos_embedding.weight.numel())\n",
    "print('Final projection(linear) Layer Total weights: ', gpt2.final_projection.weight.numel())\n",
    "\n",
    "print(f'Total GPT2\\'s weights with weight sharing on final projection layer: {gpt2_small - gpt2.final_projection.weight.numel():,}')"
   ]
  },
  {
   "cell_type": "code",
   "execution_count": 78,
   "metadata": {},
   "outputs": [
    {
     "name": "stdout",
     "output_type": "stream",
     "text": [
      "Total size of the model: 621.83 MB\n"
     ]
    }
   ],
   "source": [
    "#Checking model size:\n",
    "size = gpt2_small * 4\n",
    "\n",
    "# Convert to megabytes\n",
    "total_size_mb = size / (1024 * 1024)\n",
    "\n",
    "print(f\"Total size of the model: {total_size_mb:.2f} MB\")"
   ]
  },
  {
   "cell_type": "code",
   "execution_count": null,
   "metadata": {},
   "outputs": [],
   "source": []
  }
 ],
 "metadata": {
  "kernelspec": {
   "display_name": "torch-gpu-cuda12.5",
   "language": "python",
   "name": "python3"
  },
  "language_info": {
   "codemirror_mode": {
    "name": "ipython",
    "version": 3
   },
   "file_extension": ".py",
   "mimetype": "text/x-python",
   "name": "python",
   "nbconvert_exporter": "python",
   "pygments_lexer": "ipython3",
   "version": "3.11.9"
  }
 },
 "nbformat": 4,
 "nbformat_minor": 2
}
